{
 "cells": [
  {
   "cell_type": "code",
   "execution_count": 6,
   "id": "6fb59b96-7c9d-4680-81d4-50bca480efdb",
   "metadata": {},
   "outputs": [
    {
     "name": "stdout",
     "output_type": "stream",
     "text": [
      "Note: you may need to restart the kernel to use updated packages.\n"
     ]
    }
   ],
   "source": [
    "pip list > .req"
   ]
  },
  {
   "cell_type": "code",
   "execution_count": 1,
   "id": "ba883782-fd62-4e4f-9bc3-7e1151cb0306",
   "metadata": {},
   "outputs": [],
   "source": [
    "import bilby\n",
    "priors = dict()\n",
    "priors['g'] = bilby.core.prior.Gamma(k=2.0, theta=1.0, name='g')\n",
    "\n",
    "\n"
   ]
  },
  {
   "cell_type": "code",
   "execution_count": 2,
   "id": "3a85c21f-feaf-4ee2-80c7-3d64225877dd",
   "metadata": {},
   "outputs": [
    {
     "data": {
      "text/plain": [
       "'2.3.0'"
      ]
     },
     "execution_count": 2,
     "metadata": {},
     "output_type": "execute_result"
    }
   ],
   "source": [
    "bilby.__version__\n"
   ]
  },
  {
   "cell_type": "code",
   "execution_count": 3,
   "id": "60d67cff-17f3-4326-be87-36a0e98731e9",
   "metadata": {},
   "outputs": [],
   "source": [
    "import bilby_cython"
   ]
  },
  {
   "cell_type": "code",
   "execution_count": null,
   "id": "7b09e4e4-42e6-4d1d-b8ab-3835b6a14d48",
   "metadata": {},
   "outputs": [],
   "source": []
  }
 ],
 "metadata": {
  "kernelspec": {
   "display_name": "Python 3 (ipykernel)",
   "language": "python",
   "name": "python3"
  },
  "language_info": {
   "codemirror_mode": {
    "name": "ipython",
    "version": 3
   },
   "file_extension": ".py",
   "mimetype": "text/x-python",
   "name": "python",
   "nbconvert_exporter": "python",
   "pygments_lexer": "ipython3",
   "version": "3.11.8"
  }
 },
 "nbformat": 4,
 "nbformat_minor": 5
}
