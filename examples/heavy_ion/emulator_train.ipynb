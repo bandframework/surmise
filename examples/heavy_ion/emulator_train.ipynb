{
 "cells": [
  {
   "cell_type": "code",
   "execution_count": null,
   "metadata": {},
   "outputs": [],
   "source": [
    "import sys\n",
    "import os\n",
    "import numpy as np\n",
    "import matplotlib.pyplot as plt\n",
    "import dill\n",
    "import gzip\n",
    "import logging\n",
    "\n",
    "sys.path.append(os.path.abspath('../../surmise/emulationmethods'))\n",
    "from AKSGP import Emulator\n",
    "\n",
    "# Configure logging\n",
    "logging.basicConfig(\n",
    "    level=logging.INFO,\n",
    "    format='%(asctime)s - %(name)s - %(levelname)s - %(message)s',\n",
    "    handlers=[\n",
    "        # logging.FileHandler('emulator_train.log', mode='w'),  # Log to file\n",
    "        logging.StreamHandler()  # Log to console\n",
    "    ]\n",
    ")\n",
    "logger = logging.getLogger(__name__)"
   ]
  },
  {
   "cell_type": "markdown",
   "metadata": {},
   "source": [
    "# Try mock data"
   ]
  },
  {
   "cell_type": "code",
   "execution_count": null,
   "metadata": {},
   "outputs": [],
   "source": [
    "from sklearn.datasets import make_friedman1, make_friedman2\n",
    "X, y = make_friedman2(n_samples=50, noise=0.0, random_state=0)\n",
    "emu = Emulator(X=X, Y_mean=y, Y_std=None)\n",
    "emu.fit(kernel='AKS', nrestarts=5)\n",
    "\n",
    "Xtest, ytest = make_friedman2(n_samples=10, noise=0.0, random_state=0)\n",
    "means, std_devs = emu.predict(Xtest)\n",
    "print(\"% error:\\n\", (1.0 - means/ytest.reshape(-1, 1))*100)"
   ]
  },
  {
   "cell_type": "markdown",
   "metadata": {},
   "source": [
    "# Load heavy-ion data"
   ]
  },
  {
   "cell_type": "code",
   "execution_count": null,
   "metadata": {},
   "outputs": [],
   "source": [
    "# Load training data\n",
    "train_dir = 'simulation_data/Grad_Pb-Pb-2760GeV/train'\n",
    "X = np.loadtxt(os.path.join(train_dir, 'X.txt'))\n",
    "Ymean = np.loadtxt(os.path.join(train_dir, 'Ymean.txt'))\n",
    "Ystd = np.loadtxt(os.path.join(train_dir, 'Ystd.txt'))\n",
    "\n",
    "print(f\"Arrays loaded from directory '{train_dir}'.\")\n",
    "print(f\"Shapes of loaded arrays: {X.shape}, {Ymean.shape}, {Ystd.shape}\")\n",
    "\n",
    "\n",
    "# Load testing data\n",
    "test_dir = 'simulation_data/Grad_Pb-Pb-2760GeV/test'\n",
    "\n",
    "Xval = np.loadtxt(os.path.join(test_dir, 'X.txt'))\n",
    "Ymeanval = np.loadtxt(os.path.join(test_dir, 'Ymean.txt'))\n",
    "Ystdval = np.loadtxt(os.path.join(test_dir, 'Ystd.txt'))\n",
    "\n",
    "print(f\"Arrays loaded from directory '{test_dir}'.\")\n",
    "print(f\"Shapes of loaded arrays: {Xval.shape}, {Ymeanval.shape}, {Ystdval.shape}\")\n"
   ]
  },
  {
   "cell_type": "markdown",
   "metadata": {},
   "source": [
    "# Train emulators"
   ]
  },
  {
   "cell_type": "code",
   "execution_count": null,
   "metadata": {
    "scrolled": true
   },
   "outputs": [],
   "source": [
    "inpsize = 485; numobs= (5, 23, 33, 40, 51, 57, 67, 75, 85, 95, 100, 106);\n",
    "\n",
    "emu = Emulator(X=X[:inpsize], Y_mean=Ymean[:inpsize, numobs], Y_std=Ystd[:inpsize, numobs])\n",
    "emu.fit(kernel='AKS', nrestarts=5, seed=13)\n",
    "\n",
    "# emu = Emulator(X=X, Y_mean=Ymean, Y_std=Ystd)\n",
    "# emu.fit(kernel='AKS', nrestarts=5)"
   ]
  },
  {
   "cell_type": "code",
   "execution_count": null,
   "metadata": {},
   "outputs": [],
   "source": [
    "import pandas as pd\n",
    "test = tuple(np.random.randint(0, 93, 10).flatten())\n",
    "\n",
    "Ymean_test =  Ymean[test, :]\n",
    "Ymean_test =  Ymean_test[:, numobs]\n",
    "Ystd_test =  Ystd[test, :]\n",
    "Ystd_test =  Ystd_test[:, numobs]\n",
    "\n",
    "Ymeanval_test =  Ymeanval[test, :]\n",
    "Ymeanval_test =  Ymeanval_test[:, numobs]\n",
    "Ystdval_test =  Ystdval[test, :]\n",
    "Ystdval_test =  Ystdval_test[:, numobs]\n",
    "\n",
    "pd.set_option('display.float_format', '{:,.7f}'.format)\n",
    "print(\"Predictions on training set ----------------->\")\n",
    "# Predict with standard deviation\n",
    "means, std_devs = emu.predict(X[test, :])\n",
    "\n",
    "df_means_error = (1- means/Ymean_test)*100\n",
    "df_std_ratio = std_devs/Ystd_test\n",
    "df_means_error_rounded = pd.DataFrame(df_means_error).round(6)\n",
    "df_std_ratio_rounded = pd.DataFrame(df_std_ratio).round(6)\n",
    "\n",
    "print(\"  % error in means:\")\n",
    "print(df_means_error_rounded.to_string(index=False, header=False))\n",
    "print(\"\\n  ratio of std:\")\n",
    "print(df_std_ratio_rounded.to_string(index=False, header=False))\n",
    "\n",
    "\n",
    "# print(\"  Original means:\\n\", Ymeanval_test,\"\\n\")\n",
    "# print(\"  Predicted means:\\n\", means,\"\\n\")\n",
    "\n",
    "# print(\"  Original standard deviations:\\n\", Ystdval_test,\"\\n\")\n",
    "# print(\"  Predicted standard deviations:\\n\", std_devs,\"\\n\")\n",
    "\n",
    "\n",
    "print(\"\\nPredictions on test set ----------------->\")\n",
    "# Predict with standard deviation\n",
    "means, std_devs = emu.predict(Xval[test, :])\n",
    "\n",
    "df_means_error = (1- means/Ymeanval_test)*100\n",
    "df_std_ratio = (std_devs/Ystdval_test)\n",
    "df_means_error_rounded = pd.DataFrame(df_means_error).round(6)\n",
    "df_std_ratio_rounded = pd.DataFrame(df_std_ratio).round(6)\n",
    "\n",
    "\n",
    "print(\"  % error in means:\")\n",
    "print(df_means_error_rounded.to_string(index=False, header=False))\n",
    "print(\"\\n  ratio of std:\")\n",
    "print(df_std_ratio_rounded.to_string(index=False, header=False))\n",
    "\n",
    "# print(\"  Original means:\\n\", Ymeanval_test,\"\\n\")\n",
    "# print(\"  Predicted means:\\n\", means,\"\\n\")\n",
    "\n",
    "# print(\"  Original standard deviations:\\n\", Ystdval_test,\"\\n\")\n",
    "# print(\"  Predicted standard deviations:\\n\", std_devs,\"\\n\")\n"
   ]
  },
  {
   "cell_type": "code",
   "execution_count": null,
   "metadata": {},
   "outputs": [],
   "source": [
    "min_values = np.min(X, axis=0)\n",
    "max_values = np.max(X, axis=0)\n",
    "X_test = np.array([np.linspace(min_val, max_val, 100) for min_val, max_val in zip(min_values, max_values)]).T\n",
    "\n",
    "y_pred, y_std = emu.predict(X_test)"
   ]
  },
  {
   "cell_type": "code",
   "execution_count": null,
   "metadata": {},
   "outputs": [],
   "source": [
    "numobs= (5, 23, 33, 40, 51, 57, 67, 75, 85, 95, 100, 106)\n",
    "# Set up the subplots\n",
    "fig, axes = plt.subplots(nrows=6, ncols=3, figsize=(15, 20))\n",
    "axes = axes.flatten()\n",
    "\n",
    "# Loop through each feature\n",
    "for param_no in range(X.shape[1]):\n",
    "    obs_no = 5  # Adjust this if you want to visualize different observations\n",
    "    \n",
    "    axes[param_no].plot(X_test[:, param_no], y_pred[:, obs_no], 'b-', label='GP Mean')\n",
    "    # pp = obs_no+1\n",
    "    # axes[param_no].plot(X_test[:, param_no+1], y_pred[:, pp], 'g-')\n",
    "    # axes[param_no].plot(X_test[:, param_no], y_pred[:, pp], 'g-')\n",
    "    axes[param_no].fill_between(X_test[:, param_no], \n",
    "                                y_pred[:, obs_no] - 1.96 * y_std[:, obs_no], \n",
    "                                y_pred[:, obs_no] + 1.96 * y_std[:, obs_no], \n",
    "                                alpha=0.2, color='blue', label='95% Confidence Interval')\n",
    "    axes[param_no].set_xlabel(f'Feature {param_no + 1}')\n",
    "    axes[param_no].set_ylabel('Target')\n",
    "    axes[param_no].set_title(f'GP Regression Along Feature {param_no + 1}')\n",
    "    axes[param_no].legend()\n",
    "\n",
    "# Remove any empty subplots if fewer than 18 features\n",
    "for i in range(X.shape[1], len(axes)):\n",
    "    fig.delaxes(axes[i])\n",
    "\n",
    "plt.tight_layout()\n",
    "plt.show()"
   ]
  },
  {
   "cell_type": "code",
   "execution_count": null,
   "metadata": {},
   "outputs": [],
   "source": [
    "import matplotlib.pyplot as plt\n",
    "\n",
    "# Set up the observation range\n",
    "numobs = (5, 23, 33, 40, 51, 57, 67, 75, 85, 95, 100, 106)\n",
    "obs_range = range(len(numobs))  # This will generate obs_no from 0 to 9\n",
    "n_features = X.shape[1]  # Number of features\n",
    "\n",
    "# Loop through each obs_no\n",
    "for obs_no in obs_range:\n",
    "    # Set up the subplots for the current obs_no\n",
    "    fig, axes = plt.subplots(nrows=6, ncols=3, figsize=(15, 20))\n",
    "    axes = axes.flatten()\n",
    "    # print(\"Observable: \", numobs[obs_no], \"\\n\")\n",
    "    # Loop through each feature\n",
    "    for param_no in range(n_features):\n",
    "        axes[param_no].plot(X_test[:, param_no], y_pred[:, obs_no], 'b-', label=f'GP Mean Obs {obs_no}')\n",
    "        \n",
    "        # Fill confidence interval for the current feature\n",
    "        axes[param_no].fill_between(X_test[:, param_no], \n",
    "                                    y_pred[:, obs_no] - 1.96 * y_std[:, obs_no], \n",
    "                                    y_pred[:, obs_no] + 1.96 * y_std[:, obs_no], \n",
    "                                    alpha=0.2, color='blue', label='95% Confidence Interval')\n",
    "        \n",
    "        axes[param_no].set_xlabel(f'Feature {param_no + 1}')\n",
    "        axes[param_no].set_ylabel(f'Observable: {numobs[obs_no]}')\n",
    "        axes[param_no].set_title(f'GP Regression Obs {numobs[obs_no]} Feature {param_no + 1}')\n",
    "        axes[param_no].legend()\n",
    "\n",
    "    # Remove any empty subplots if fewer than 18 features\n",
    "    for i in range(n_features, len(axes)):\n",
    "        fig.delaxes(axes[i])\n",
    "\n",
    "    plt.tight_layout()\n",
    "    plt.show()\n"
   ]
  },
  {
   "cell_type": "code",
   "execution_count": null,
   "metadata": {},
   "outputs": [],
   "source": []
  },
  {
   "cell_type": "code",
   "execution_count": null,
   "metadata": {},
   "outputs": [],
   "source": []
  }
 ],
 "metadata": {
  "kernelspec": {
   "display_name": "Python 3 (ipykernel)",
   "language": "python",
   "name": "python3"
  },
  "language_info": {
   "codemirror_mode": {
    "name": "ipython",
    "version": 3
   },
   "file_extension": ".py",
   "mimetype": "text/x-python",
   "name": "python",
   "nbconvert_exporter": "python",
   "pygments_lexer": "ipython3",
   "version": "3.11.8"
  }
 },
 "nbformat": 4,
 "nbformat_minor": 4
}
