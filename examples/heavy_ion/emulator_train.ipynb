{
 "cells": [
  {
   "cell_type": "code",
   "execution_count": 1,
   "metadata": {},
   "outputs": [],
   "source": [
    "import sys\n",
    "import os\n",
    "import numpy as np\n",
    "import dill\n",
    "import gzip\n",
    "import logging\n",
    "\n",
    "\n",
    "sys.path.append(os.path.abspath('../../surmise/emulationmethods'))\n",
    "from AKSGP import Emulator\n",
    "\n",
    "# Configure logging\n",
    "logging.basicConfig(\n",
    "    level=logging.INFO,\n",
    "    format='%(asctime)s - %(name)s - %(levelname)s - %(message)s',\n",
    "    handlers=[\n",
    "        # logging.FileHandler('emulator_train.log', mode='w'),  # Log to file\n",
    "        logging.StreamHandler()  # Log to console\n",
    "    ]\n",
    ")\n",
    "logger = logging.getLogger(__name__)"
   ]
  },
  {
   "cell_type": "markdown",
   "metadata": {},
   "source": [
    "# Load data"
   ]
  },
  {
   "cell_type": "code",
   "execution_count": 2,
   "metadata": {},
   "outputs": [
    {
     "name": "stdout",
     "output_type": "stream",
     "text": [
      "Arrays loaded from directory 'simulation_data/Grad_Pb-Pb-2760GeV/train'.\n",
      "Shapes of loaded arrays: (485, 17), (485, 110), (485, 110)\n",
      "Arrays loaded from directory 'simulation_data/Grad_Pb-Pb-2760GeV/test'.\n",
      "Shapes of loaded arrays: (93, 17), (93, 110), (93, 110)\n"
     ]
    }
   ],
   "source": [
    "# Load training data\n",
    "train_dir = 'simulation_data/Grad_Pb-Pb-2760GeV/train'\n",
    "X = np.loadtxt(os.path.join(train_dir, 'X.txt'))\n",
    "Ymean = np.loadtxt(os.path.join(train_dir, 'Ymean.txt'))\n",
    "Ystd = np.loadtxt(os.path.join(train_dir, 'Ystd.txt'))\n",
    "\n",
    "print(f\"Arrays loaded from directory '{train_dir}'.\")\n",
    "print(f\"Shapes of loaded arrays: {X.shape}, {Ymean.shape}, {Ystd.shape}\")\n",
    "\n",
    "\n",
    "# Load testing data\n",
    "test_dir = 'simulation_data/Grad_Pb-Pb-2760GeV/test'\n",
    "\n",
    "Xval = np.loadtxt(os.path.join(test_dir, 'X.txt'))\n",
    "Ymeanval = np.loadtxt(os.path.join(test_dir, 'Ymean.txt'))\n",
    "Ystdval = np.loadtxt(os.path.join(test_dir, 'Ystd.txt'))\n",
    "\n",
    "print(f\"Arrays loaded from directory '{test_dir}'.\")\n",
    "print(f\"Shapes of loaded arrays: {Xval.shape}, {Ymeanval.shape}, {Ystdval.shape}\")\n"
   ]
  },
  {
   "cell_type": "markdown",
   "metadata": {},
   "source": [
    "# Train emulators"
   ]
  },
  {
   "cell_type": "code",
   "execution_count": 3,
   "metadata": {},
   "outputs": [
    {
     "name": "stderr",
     "output_type": "stream",
     "text": [
      "2024-08-22 23:35:03,670 - AKSGP - INFO - Automatic kernel selection opted. Best kernel for each output dimension will be selected from the list of kernels:\n",
      "   ['Matern12', 'Matern32', 'Matern52', 'RBF', 'RationalQuadratic*Matern12', 'RationalQuadratic*Matern32', 'RationalQuadratic*Matern52', 'RationalQuadratic*RBF', 'DotProduct+Matern12', 'DotProduct+Matern32', 'DotProduct+Matern52', 'DotProduct+RBF']\n",
      "\n",
      "2024-08-22 23:35:03,673 - AKSGP - INFO - Shape of training arrays: (436, 17), (436, 4), (436, 4)\n",
      "2024-08-22 23:35:03,673 - AKSGP - INFO - Shape of pseudo_test arrays: (49, 17), (49, 4), (49, 4)\n",
      "2024-08-22 23:35:03,674 - AKSGP - INFO - Training GPs with all available kernels...\n",
      "2024-08-22 23:35:03,675 - AKSGP - INFO -   Standardizing input space...\n",
      "2024-08-22 23:35:03,676 - AKSGP - INFO -   Standardizing data...\n",
      "2024-08-22 23:35:17,935 - AKSGP - INFO -   Trained GPs with Matern12 kernels.\n",
      "2024-08-22 23:35:27,638 - AKSGP - INFO -   Trained GPs with Matern32 kernels.\n",
      "2024-08-22 23:35:34,413 - AKSGP - INFO -   Trained GPs with Matern52 kernels.\n",
      "2024-08-22 23:35:39,934 - AKSGP - INFO -   Trained GPs with RBF kernels.\n",
      "/Users/jaiswal/miniconda3/envs/jssims_new/lib/python3.11/site-packages/sklearn/gaussian_process/kernels.py:455: ConvergenceWarning: The optimal value found for dimension 8 of parameter k2__length_scale is close to the specified upper bound 1e+20. Increasing the bound and calling fit again may find a better value.\n",
      "  warnings.warn(\n",
      "2024-08-22 23:36:04,537 - AKSGP - INFO -   Trained GPs with RationalQuadratic*Matern12 kernels.\n",
      "/Users/jaiswal/miniconda3/envs/jssims_new/lib/python3.11/site-packages/sklearn/gaussian_process/kernels.py:445: ConvergenceWarning: The optimal value found for dimension 0 of parameter k1__alpha is close to the specified lower bound 1e-05. Decreasing the bound and calling fit again may find a better value.\n",
      "  warnings.warn(\n",
      "/Users/jaiswal/miniconda3/envs/jssims_new/lib/python3.11/site-packages/sklearn/gaussian_process/kernels.py:455: ConvergenceWarning: The optimal value found for dimension 0 of parameter k1__length_scale is close to the specified upper bound 100000.0. Increasing the bound and calling fit again may find a better value.\n",
      "  warnings.warn(\n",
      "2024-08-22 23:36:08,558 - AKSGP - INFO -   Trained GPs with RationalQuadratic*Matern32 kernels.\n",
      "2024-08-22 23:36:18,174 - AKSGP - INFO -   Trained GPs with RationalQuadratic*Matern52 kernels.\n",
      "/Users/jaiswal/miniconda3/envs/jssims_new/lib/python3.11/site-packages/sklearn/gaussian_process/kernels.py:455: ConvergenceWarning: The optimal value found for dimension 4 of parameter k2__length_scale is close to the specified upper bound 1e+20. Increasing the bound and calling fit again may find a better value.\n",
      "  warnings.warn(\n",
      "/Users/jaiswal/miniconda3/envs/jssims_new/lib/python3.11/site-packages/sklearn/gaussian_process/kernels.py:455: ConvergenceWarning: The optimal value found for dimension 15 of parameter k2__length_scale is close to the specified upper bound 1e+20. Increasing the bound and calling fit again may find a better value.\n",
      "  warnings.warn(\n",
      "2024-08-22 23:36:24,760 - AKSGP - INFO -   Trained GPs with RationalQuadratic*RBF kernels.\n",
      "/Users/jaiswal/miniconda3/envs/jssims_new/lib/python3.11/site-packages/sklearn/gaussian_process/kernels.py:445: ConvergenceWarning: The optimal value found for dimension 0 of parameter k1__sigma_0 is close to the specified lower bound 1e-05. Decreasing the bound and calling fit again may find a better value.\n",
      "  warnings.warn(\n",
      "2024-08-22 23:36:49,087 - AKSGP - INFO -   Trained GPs with DotProduct+Matern12 kernels.\n",
      "2024-08-22 23:37:11,367 - AKSGP - INFO -   Trained GPs with DotProduct+Matern32 kernels.\n",
      "/Users/jaiswal/miniconda3/envs/jssims_new/lib/python3.11/site-packages/sklearn/gaussian_process/kernels.py:445: ConvergenceWarning: The optimal value found for dimension 0 of parameter k1__sigma_0 is close to the specified lower bound 1e-05. Decreasing the bound and calling fit again may find a better value.\n",
      "  warnings.warn(\n",
      "/Users/jaiswal/miniconda3/envs/jssims_new/lib/python3.11/site-packages/sklearn/gaussian_process/kernels.py:455: ConvergenceWarning: The optimal value found for dimension 6 of parameter k2__k2__length_scale is close to the specified upper bound 1e+20. Increasing the bound and calling fit again may find a better value.\n",
      "  warnings.warn(\n",
      "2024-08-22 23:37:30,026 - AKSGP - INFO -   Trained GPs with DotProduct+Matern52 kernels.\n",
      "/Users/jaiswal/miniconda3/envs/jssims_new/lib/python3.11/site-packages/sklearn/gaussian_process/kernels.py:445: ConvergenceWarning: The optimal value found for dimension 0 of parameter k1__sigma_0 is close to the specified lower bound 1e-05. Decreasing the bound and calling fit again may find a better value.\n",
      "  warnings.warn(\n",
      "2024-08-22 23:37:48,523 - AKSGP - INFO -   Trained GPs with DotProduct+RBF kernels.\n",
      "2024-08-22 23:37:48,523 - AKSGP - INFO - Finding best kernels for each output dimension...\n",
      "2024-08-22 23:37:48,581 - AKSGP - INFO -   Selected best kernels for each output dimension:\n",
      "   ['DotProduct+Matern32', 'DotProduct+Matern32', 'DotProduct+Matern12', 'DotProduct+Matern32']\n",
      "\n",
      "2024-08-22 23:37:48,584 - AKSGP - INFO - Retraining the GPs with selected best kernels using all training data...\n",
      "2024-08-22 23:37:48,584 - AKSGP - INFO -   Standardizing input space...\n",
      "2024-08-22 23:37:48,585 - AKSGP - INFO -   Standardizing data...\n",
      "2024-08-22 23:38:13,099 - AKSGP - INFO - Retraining GPs complete.\n",
      "\n",
      "2024-08-22 23:38:13,100 - AKSGP - INFO - Kernel after GP training for output dimension 0:\n",
      "DotProduct(sigma_0=0.000274) + 5.41**2 * Matern(length_scale=[33.4, 52, 48.5, 42.2, 1.77e+04, 24.4, 43.4, 35.8, 87.4, 22, 60, 37.7, 21.4, 67.8, 38.5, 68.9, 89.6], nu=1.5)\n",
      "  Log-marginal-likelihood: 86.4217389242416\n",
      "\n",
      "2024-08-22 23:38:13,101 - AKSGP - INFO - Kernel after GP training for output dimension 1:\n",
      "DotProduct(sigma_0=0.515) + 0.713**2 * Matern(length_scale=[5.43, 2.88, 6.4, 5.8, 47.4, 4.99, 8.9, 6.41, 19.4, 5.48, 7.32, 5.67, 5.96, 7.41, 11.7, 7.93, 12.5], nu=1.5)\n",
      "  Log-marginal-likelihood: -102.84853174707814\n",
      "\n",
      "2024-08-22 23:38:13,102 - AKSGP - INFO - Kernel after GP training for output dimension 2:\n",
      "DotProduct(sigma_0=3.96e-05) + 1.14**2 * Matern(length_scale=[35.7, 12.7, 40.6, 18.9, 2.62e+05, 24.2, 40.2, 3.07e+05, 202, 136, 55.6, 42.4, 5.58e+06, 5.12e+06, 139, 5.47e+04, 40.4], nu=0.5)\n",
      "  Log-marginal-likelihood: -123.02340977910154\n",
      "\n",
      "2024-08-22 23:38:13,103 - AKSGP - INFO - Kernel after GP training for output dimension 3:\n",
      "DotProduct(sigma_0=0.525) + 0.736**2 * Matern(length_scale=[5.62, 3, 6.71, 6.04, 35, 5.35, 9.01, 6.99, 20, 5.84, 7.68, 5.47, 5.17, 7.12, 9.92, 8.68, 13.7], nu=1.5)\n",
      "  Log-marginal-likelihood: -109.00306413201707\n",
      "\n"
     ]
    }
   ],
   "source": [
    "inpsize = 485; numobs= (0,4,7,34);\n",
    "\n",
    "emu = Emulator(X=X[:inpsize], Y_mean=Ymean[:inpsize, numobs], Y_std=Ystd[:inpsize, numobs])\n",
    "emu.fit(kernel='AKS', nrestarts=5, seed=13)\n"
   ]
  },
  {
   "cell_type": "code",
   "execution_count": 4,
   "metadata": {},
   "outputs": [
    {
     "name": "stdout",
     "output_type": "stream",
     "text": [
      "Predictions on training set ----------------->\n"
     ]
    },
    {
     "ename": "NameError",
     "evalue": "name 'emu' is not defined",
     "output_type": "error",
     "traceback": [
      "\u001b[0;31m---------------------------------------------------------------------------\u001b[0m",
      "\u001b[0;31mNameError\u001b[0m                                 Traceback (most recent call last)",
      "Cell \u001b[0;32mIn[4], line 5\u001b[0m\n\u001b[1;32m      3\u001b[0m \u001b[38;5;28mprint\u001b[39m(\u001b[38;5;124m\"\u001b[39m\u001b[38;5;124mPredictions on training set ----------------->\u001b[39m\u001b[38;5;124m\"\u001b[39m)\n\u001b[1;32m      4\u001b[0m \u001b[38;5;66;03m# Predict with standard deviation\u001b[39;00m\n\u001b[0;32m----> 5\u001b[0m means, std_devs \u001b[38;5;241m=\u001b[39m \u001b[43memu\u001b[49m\u001b[38;5;241m.\u001b[39mpredict(X[:test])\n\u001b[1;32m      7\u001b[0m \u001b[38;5;28mprint\u001b[39m(\u001b[38;5;124m\"\u001b[39m\u001b[38;5;124m  Original means:\u001b[39m\u001b[38;5;130;01m\\n\u001b[39;00m\u001b[38;5;124m\"\u001b[39m, Ymean[:test, numobs],\u001b[38;5;124m\"\u001b[39m\u001b[38;5;130;01m\\n\u001b[39;00m\u001b[38;5;124m\"\u001b[39m)\n\u001b[1;32m      8\u001b[0m \u001b[38;5;28mprint\u001b[39m(\u001b[38;5;124m\"\u001b[39m\u001b[38;5;124m  Predicted means:\u001b[39m\u001b[38;5;130;01m\\n\u001b[39;00m\u001b[38;5;124m\"\u001b[39m, means,\u001b[38;5;124m\"\u001b[39m\u001b[38;5;130;01m\\n\u001b[39;00m\u001b[38;5;124m\"\u001b[39m)\n",
      "\u001b[0;31mNameError\u001b[0m: name 'emu' is not defined"
     ]
    }
   ],
   "source": [
    "test = 10\n",
    "\n",
    "print(\"Predictions on training set ----------------->\")\n",
    "# Predict with standard deviation\n",
    "means, std_devs = emu.predict(X[:test])\n",
    "\n",
    "print(\"  Original means:\\n\", Ymean[:test, numobs],\"\\n\")\n",
    "print(\"  Predicted means:\\n\", means,\"\\n\")\n",
    "\n",
    "print(\"  Original standard deviations:\\n\", Ystd[:test, numobs],\"\\n\")\n",
    "print(\"  Predicted standard deviations:\\n\", std_devs,\"\\n\")\n",
    "\n",
    "\n",
    "print(\"Predictions on test set ----------------->\")\n",
    "# Predict with standard deviation\n",
    "means, std_devs = emu.predict(Xval[:test])\n",
    "\n",
    "print(\"  Original means:\\n\", Ymeanval[:test, numobs],\"\\n\")\n",
    "print(\"  Predicted means:\\n\", means,\"\\n\")\n",
    "\n",
    "print(\"  Original standard deviations:\\n\", Ystdval[:test, numobs],\"\\n\")\n",
    "print(\"  Predicted standard deviations:\\n\", std_devs,\"\\n\")\n"
   ]
  },
  {
   "cell_type": "code",
   "execution_count": null,
   "metadata": {},
   "outputs": [],
   "source": []
  },
  {
   "cell_type": "code",
   "execution_count": null,
   "metadata": {},
   "outputs": [],
   "source": []
  },
  {
   "cell_type": "code",
   "execution_count": null,
   "metadata": {},
   "outputs": [],
   "source": []
  },
  {
   "cell_type": "code",
   "execution_count": null,
   "metadata": {},
   "outputs": [],
   "source": []
  },
  {
   "cell_type": "code",
   "execution_count": null,
   "metadata": {},
   "outputs": [],
   "source": []
  },
  {
   "cell_type": "code",
   "execution_count": null,
   "metadata": {},
   "outputs": [],
   "source": []
  },
  {
   "cell_type": "code",
   "execution_count": null,
   "metadata": {},
   "outputs": [],
   "source": []
  },
  {
   "cell_type": "code",
   "execution_count": null,
   "metadata": {},
   "outputs": [],
   "source": []
  },
  {
   "cell_type": "code",
   "execution_count": null,
   "metadata": {},
   "outputs": [],
   "source": []
  },
  {
   "cell_type": "code",
   "execution_count": null,
   "metadata": {},
   "outputs": [],
   "source": []
  },
  {
   "cell_type": "code",
   "execution_count": null,
   "metadata": {},
   "outputs": [],
   "source": []
  },
  {
   "cell_type": "code",
   "execution_count": null,
   "metadata": {},
   "outputs": [],
   "source": []
  },
  {
   "cell_type": "code",
   "execution_count": null,
   "metadata": {},
   "outputs": [],
   "source": []
  }
 ],
 "metadata": {
  "kernelspec": {
   "display_name": "Python 3 (ipykernel)",
   "language": "python",
   "name": "python3"
  },
  "language_info": {
   "codemirror_mode": {
    "name": "ipython",
    "version": 3
   },
   "file_extension": ".py",
   "mimetype": "text/x-python",
   "name": "python",
   "nbconvert_exporter": "python",
   "pygments_lexer": "ipython3",
   "version": "3.11.8"
  }
 },
 "nbformat": 4,
 "nbformat_minor": 4
}
