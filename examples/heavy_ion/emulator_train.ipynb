{
 "cells": [
  {
   "cell_type": "code",
   "execution_count": 1,
   "metadata": {},
   "outputs": [],
   "source": [
    "import sys\n",
    "import os\n",
    "import numpy as np\n",
    "import dill\n",
    "import gzip\n",
    "import logging\n",
    "\n",
    "\n",
    "sys.path.append(os.path.abspath('../../surmise/emulationmethods'))\n",
    "from AKSGP import Emulator\n",
    "\n",
    "# Configure logging\n",
    "logging.basicConfig(\n",
    "    level=logging.INFO,\n",
    "    format='%(asctime)s - %(name)s - %(levelname)s - %(message)s',\n",
    "    handlers=[\n",
    "        # logging.FileHandler('emulator_train.log', mode='w'),  # Log to file\n",
    "        logging.StreamHandler()  # Log to console\n",
    "    ]\n",
    ")\n",
    "logger = logging.getLogger(__name__)"
   ]
  },
  {
   "cell_type": "markdown",
   "metadata": {},
   "source": [
    "# Load data"
   ]
  },
  {
   "cell_type": "code",
   "execution_count": 2,
   "metadata": {},
   "outputs": [
    {
     "name": "stdout",
     "output_type": "stream",
     "text": [
      "Arrays loaded from directory 'simulation_data/Grad_Pb-Pb-2760GeV/train'.\n",
      "Shapes of loaded arrays: (485, 17), (485, 110), (485, 110)\n",
      "Arrays loaded from directory 'simulation_data/Grad_Pb-Pb-2760GeV/test'.\n",
      "Shapes of loaded arrays: (93, 17), (93, 110), (93, 110)\n"
     ]
    }
   ],
   "source": [
    "# Load training data\n",
    "train_dir = 'simulation_data/Grad_Pb-Pb-2760GeV/train'\n",
    "X = np.loadtxt(os.path.join(train_dir, 'X.txt'))\n",
    "Ymean = np.loadtxt(os.path.join(train_dir, 'Ymean.txt'))\n",
    "Ystd = np.loadtxt(os.path.join(train_dir, 'Ystd.txt'))\n",
    "\n",
    "print(f\"Arrays loaded from directory '{train_dir}'.\")\n",
    "print(f\"Shapes of loaded arrays: {X.shape}, {Ymean.shape}, {Ystd.shape}\")\n",
    "\n",
    "\n",
    "# Load testing data\n",
    "test_dir = 'simulation_data/Grad_Pb-Pb-2760GeV/test'\n",
    "\n",
    "Xval = np.loadtxt(os.path.join(test_dir, 'X.txt'))\n",
    "Ymeanval = np.loadtxt(os.path.join(test_dir, 'Ymean.txt'))\n",
    "Ystdval = np.loadtxt(os.path.join(test_dir, 'Ystd.txt'))\n",
    "\n",
    "print(f\"Arrays loaded from directory '{test_dir}'.\")\n",
    "print(f\"Shapes of loaded arrays: {Xval.shape}, {Ymeanval.shape}, {Ystdval.shape}\")\n"
   ]
  },
  {
   "cell_type": "markdown",
   "metadata": {},
   "source": [
    "# Train emulators"
   ]
  },
  {
   "cell_type": "code",
   "execution_count": 3,
   "metadata": {},
   "outputs": [
    {
     "name": "stderr",
     "output_type": "stream",
     "text": [
      "2024-08-21 18:49:17,350 - AKSGP - INFO - Automatic kernel selection opted. Best kernel for each output dimension will be selected from the list of kernels:\n",
      "   ['Matern12', 'Matern32', 'Matern52', 'RBF']\n",
      "\n",
      "2024-08-21 18:49:17,353 - AKSGP - INFO - Shape of training arrays: (436, 17), (436, 4), (436, 4)\n",
      "2024-08-21 18:49:17,353 - AKSGP - INFO - Shape of pseudo_test arrays: (49, 17), (49, 4), (49, 4)\n",
      "2024-08-21 18:49:17,354 - AKSGP - INFO - Training GPs with all available kernels...\n",
      "2024-08-21 18:49:17,354 - AKSGP - INFO -   Standardizing input space...\n",
      "2024-08-21 18:49:17,357 - AKSGP - INFO -   Standardizing data...\n",
      "2024-08-21 18:49:29,313 - AKSGP - INFO -   Trained GPs with Matern12 kernels.\n",
      "2024-08-21 18:49:41,490 - AKSGP - INFO -   Trained GPs with Matern32 kernels.\n",
      "2024-08-21 18:49:50,121 - AKSGP - INFO -   Trained GPs with Matern52 kernels.\n",
      "2024-08-21 18:49:56,456 - AKSGP - INFO -   Trained GPs with RBF kernels.\n",
      "2024-08-21 18:49:56,457 - AKSGP - INFO - Finding best kernels for each output dimension...\n",
      "2024-08-21 18:49:56,475 - AKSGP - INFO - Selected best kernels for each output dimension:\n",
      "   ['Matern52', 'Matern32', 'Matern32', 'Matern32']\n",
      "\n",
      "2024-08-21 18:49:56,476 - AKSGP - INFO - Retraining the GPs with selected best kernels using all training data...\n",
      "2024-08-21 18:49:56,476 - AKSGP - INFO -   Standardizing input space...\n",
      "2024-08-21 18:49:56,477 - AKSGP - INFO -   Standardizing data...\n",
      "2024-08-21 18:50:11,204 - AKSGP - INFO - Retraining GPs complete.\n",
      "\n",
      "2024-08-21 18:50:11,205 - AKSGP - INFO - Kernel after GP training for output dimension 0:\n",
      "1.88**2 * Matern(length_scale=[8.15, 14.3, 15.9, 11.9, 107, 7.33, 14, 11.4, 30.6, 6.71, 17.5, 11.4, 6.67, 16.4, 12.6, 19.5, 30.9], nu=2.5)\n",
      "  Log-marginal-likelihood: 107.00854571342029\n",
      "\n",
      "2024-08-21 18:50:11,205 - AKSGP - INFO - Kernel after GP training for output dimension 1:\n",
      "1.65**2 * Matern(length_scale=[8.2, 5.46, 13.7, 11.2, 75.5, 9.88, 19.2, 12.8, 50.4, 10.9, 14, 11.1, 13.4, 13.4, 28.4, 13.1, 27], nu=1.5)\n",
      "  Log-marginal-likelihood: -81.88714699539753\n",
      "\n",
      "2024-08-21 18:50:11,205 - AKSGP - INFO - Kernel after GP training for output dimension 2:\n",
      "1.49**2 * Matern(length_scale=[7.02, 3.6, 11.7, 4.58, 61.7, 7.27, 15.9, 14.8, 39.4, 15.5, 16.5, 12.1, 24.7, 66.8, 24, 40.2, 11.5], nu=1.5)\n",
      "  Log-marginal-likelihood: -95.49835786022942\n",
      "\n",
      "2024-08-21 18:50:11,206 - AKSGP - INFO - Kernel after GP training for output dimension 3:\n",
      "1.64**2 * Matern(length_scale=[8.37, 5.51, 13.5, 11.2, 70.3, 10.3, 18.8, 13.6, 50.4, 11.4, 14, 10.2, 11.1, 12.6, 22.5, 15.1, 27.1], nu=1.5)\n",
      "  Log-marginal-likelihood: -88.06866378759946\n",
      "\n"
     ]
    },
    {
     "name": "stdout",
     "output_type": "stream",
     "text": [
      "  Original means:\n",
      " [[1608.155095  402.4201     64.998956  370.298827]\n",
      " [1376.107143  398.155003   75.674266  371.891188]\n",
      " [1715.649143  495.888734   93.457043  462.45653 ]\n",
      " [1474.812429  439.662816   79.33832   407.198466]] \n",
      "\n",
      "  Original standard deviations:\n",
      " [[10.336379  3.906345  0.932647  3.59714 ]\n",
      " [ 7.11056   3.403601  1.004127  3.174749]\n",
      " [ 9.336446  4.044188  1.309451  3.773167]\n",
      " [ 8.152738  3.249399  1.106364  2.995906]] \n",
      "\n",
      "  Predicted means:\n",
      " [[1618.85299903  407.37921578   65.53142559  374.69780572]\n",
      " [1367.0657825   397.33566339   74.88825894  371.17218365]\n",
      " [1691.94349288  492.83212606   92.42994513  459.42087948]\n",
      " [1477.92119353  438.74938252   79.06886704  406.33153474]] \n",
      "\n",
      "  Predicted standard deviations:\n",
      " [[7.07801856 3.60085577 0.88891937 3.33164554]\n",
      " [6.02738479 3.23166481 0.94322045 3.01774484]\n",
      " [6.78157149 3.7374113  1.1735853  3.48718547]\n",
      " [6.50653146 3.08026423 1.0308838  2.8439806 ]] \n",
      "\n"
     ]
    }
   ],
   "source": [
    "inpsize = 485; numobs= (0,4,7,34);\n",
    "test = 22\n",
    "emu = Emulator(X=X[:inpsize], Y_mean=Ymean[:inpsize, numobs], Y_std=Ystd[:inpsize, numobs])\n",
    "emu.fit(kernel='AKS', nrestarts=5)\n",
    "\n",
    "print(\"  Original means:\\n\", Ymean[:4, numobs],\"\\n\")\n",
    "print(\"  Original standard deviations:\\n\", Ystd[:4, numobs],\"\\n\")\n",
    "\n",
    "# Predict with standard deviation\n",
    "means, std_devs = emu.predict(X[:4])\n",
    "print(\"  Predicted means:\\n\", means,\"\\n\")\n",
    "print(\"  Predicted standard deviations:\\n\", std_devs,\"\\n\")\n"
   ]
  },
  {
   "cell_type": "code",
   "execution_count": null,
   "metadata": {},
   "outputs": [],
   "source": []
  },
  {
   "cell_type": "code",
   "execution_count": null,
   "metadata": {},
   "outputs": [],
   "source": []
  },
  {
   "cell_type": "code",
   "execution_count": null,
   "metadata": {},
   "outputs": [],
   "source": []
  },
  {
   "cell_type": "code",
   "execution_count": null,
   "metadata": {},
   "outputs": [],
   "source": []
  },
  {
   "cell_type": "code",
   "execution_count": null,
   "metadata": {},
   "outputs": [],
   "source": []
  },
  {
   "cell_type": "code",
   "execution_count": null,
   "metadata": {},
   "outputs": [],
   "source": []
  },
  {
   "cell_type": "code",
   "execution_count": null,
   "metadata": {},
   "outputs": [],
   "source": []
  },
  {
   "cell_type": "code",
   "execution_count": null,
   "metadata": {},
   "outputs": [],
   "source": []
  },
  {
   "cell_type": "code",
   "execution_count": null,
   "metadata": {},
   "outputs": [],
   "source": []
  },
  {
   "cell_type": "code",
   "execution_count": null,
   "metadata": {},
   "outputs": [],
   "source": []
  },
  {
   "cell_type": "code",
   "execution_count": null,
   "metadata": {},
   "outputs": [],
   "source": []
  }
 ],
 "metadata": {
  "kernelspec": {
   "display_name": "Python 3 (ipykernel)",
   "language": "python",
   "name": "python3"
  },
  "language_info": {
   "codemirror_mode": {
    "name": "ipython",
    "version": 3
   },
   "file_extension": ".py",
   "mimetype": "text/x-python",
   "name": "python",
   "nbconvert_exporter": "python",
   "pygments_lexer": "ipython3",
   "version": "3.11.8"
  }
 },
 "nbformat": 4,
 "nbformat_minor": 4
}
