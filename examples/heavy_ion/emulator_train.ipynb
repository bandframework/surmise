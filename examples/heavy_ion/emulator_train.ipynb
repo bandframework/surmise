{
 "cells": [
  {
   "cell_type": "code",
   "execution_count": 1,
   "metadata": {},
   "outputs": [],
   "source": [
    "import sys\n",
    "import os\n",
    "import numpy as np\n",
    "import dill\n",
    "import gzip\n",
    "import logging\n",
    "\n",
    "\n",
    "sys.path.append(os.path.abspath('../../surmise/emulationmethods'))\n",
    "from AKSGP import Emulator\n",
    "\n",
    "# Configure logging\n",
    "logging.basicConfig(\n",
    "    level=logging.INFO,\n",
    "    format='%(asctime)s - %(name)s - %(levelname)s - %(message)s',\n",
    "    handlers=[\n",
    "        # logging.FileHandler('emulator_train.log', mode='w'),  # Log to file\n",
    "        logging.StreamHandler()  # Log to console\n",
    "    ]\n",
    ")\n",
    "logger = logging.getLogger(__name__)"
   ]
  },
  {
   "cell_type": "markdown",
   "metadata": {},
   "source": [
    "# Try mock data"
   ]
  },
  {
   "cell_type": "code",
   "execution_count": 2,
   "metadata": {},
   "outputs": [
    {
     "name": "stderr",
     "output_type": "stream",
     "text": [
      "2024-08-24 13:18:07,389 - AKSGP - INFO - Automatic kernel selection opted. Best kernel for each output dimension will be selected from the list of kernels:\n",
      "   ['Matern12', 'Matern32', 'Matern52', 'RBF']\n",
      "\n",
      "2024-08-24 13:18:07,390 - AKSGP - INFO - Shape of training arrays: (45, 4), (45, 1), (45, 1)\n",
      "2024-08-24 13:18:07,390 - AKSGP - INFO - Shape of validation arrays: (5, 4), (5, 1), (5, 1)\n",
      "2024-08-24 13:18:07,390 - AKSGP - INFO - Training GPs with all available kernels...\n",
      "2024-08-24 13:18:07,391 - AKSGP - INFO -   Standardizing input space...\n",
      "2024-08-24 13:18:07,391 - AKSGP - INFO -   Standardizing data...\n",
      "/Users/jaiswal/miniconda3/envs/jssims_new/lib/python3.11/site-packages/sklearn/gaussian_process/kernels.py:455: ConvergenceWarning: The optimal value found for dimension 0 of parameter k2__length_scale is close to the specified upper bound 100000.0. Increasing the bound and calling fit again may find a better value.\n",
      "  warnings.warn(\n",
      "/Users/jaiswal/miniconda3/envs/jssims_new/lib/python3.11/site-packages/sklearn/gaussian_process/kernels.py:455: ConvergenceWarning: The optimal value found for dimension 3 of parameter k2__length_scale is close to the specified upper bound 100000.0. Increasing the bound and calling fit again may find a better value.\n",
      "  warnings.warn(\n",
      "2024-08-24 13:18:07,899 - AKSGP - INFO -   Trained GPs with Matern12 kernels.\n",
      "/Users/jaiswal/miniconda3/envs/jssims_new/lib/python3.11/site-packages/sklearn/gaussian_process/kernels.py:455: ConvergenceWarning: The optimal value found for dimension 3 of parameter k2__length_scale is close to the specified upper bound 100000.0. Increasing the bound and calling fit again may find a better value.\n",
      "  warnings.warn(\n",
      "2024-08-24 13:18:08,199 - AKSGP - INFO -   Trained GPs with Matern32 kernels.\n",
      "/Users/jaiswal/miniconda3/envs/jssims_new/lib/python3.11/site-packages/sklearn/gaussian_process/kernels.py:455: ConvergenceWarning: The optimal value found for dimension 3 of parameter k2__length_scale is close to the specified upper bound 100000.0. Increasing the bound and calling fit again may find a better value.\n",
      "  warnings.warn(\n",
      "2024-08-24 13:18:08,250 - AKSGP - INFO -   Trained GPs with Matern52 kernels.\n",
      "/Users/jaiswal/miniconda3/envs/jssims_new/lib/python3.11/site-packages/sklearn/gaussian_process/kernels.py:455: ConvergenceWarning: The optimal value found for dimension 3 of parameter k2__length_scale is close to the specified upper bound 100000.0. Increasing the bound and calling fit again may find a better value.\n",
      "  warnings.warn(\n",
      "2024-08-24 13:18:08,301 - AKSGP - INFO -   Trained GPs with RBF kernels.\n",
      "2024-08-24 13:18:08,301 - AKSGP - INFO - Finding best kernels for each output dimension...\n",
      "2024-08-24 13:18:08,303 - AKSGP - INFO -   Selected best kernels for each output dimension:\n",
      "   ['RBF']\n",
      "\n",
      "2024-08-24 13:18:08,304 - AKSGP - INFO - Retraining the GPs with selected best kernels using all training data...\n",
      "2024-08-24 13:18:08,304 - AKSGP - INFO -   Standardizing input space...\n",
      "2024-08-24 13:18:08,304 - AKSGP - INFO -   Standardizing data...\n",
      "2024-08-24 13:18:08,352 - AKSGP - INFO - Retraining GPs complete.\n",
      "\n",
      "2024-08-24 13:18:08,353 - AKSGP - INFO - Kernel after GP training for output dimension 0:\n",
      "2.12**2 * RBF(length_scale=[16.9, 3.55, 1.8, 17.5])\n",
      "  Log-marginal-likelihood: 81.36688628808079\n",
      "\n"
     ]
    },
    {
     "name": "stdout",
     "output_type": "stream",
     "text": [
      "% error:\n",
      " [[-0.12841442]\n",
      " [-0.08725827]\n",
      " [ 0.06623413]\n",
      " [ 0.22912221]\n",
      " [ 0.07472758]\n",
      " [-0.05452346]\n",
      " [-0.39750841]\n",
      " [-0.0890982 ]\n",
      " [ 0.1812712 ]\n",
      " [-0.10571229]]\n"
     ]
    }
   ],
   "source": [
    "from sklearn.datasets import make_friedman1, make_friedman2\n",
    "X, y = make_friedman2(n_samples=50, noise=0.5, random_state=0)\n",
    "emu = Emulator(X=X, Y_mean=y, Y_std=None)\n",
    "emu.fit(kernel='AKS', nrestarts=5)\n",
    "\n",
    "Xtest, ytest = make_friedman2(n_samples=10, noise=0.5, random_state=0)\n",
    "means, std_devs = emu.predict(Xtest)\n",
    "print(\"% error:\\n\", (1.0 - means/ytest.reshape(-1, 1))*100)"
   ]
  },
  {
   "cell_type": "markdown",
   "metadata": {},
   "source": [
    "# Load heavy-ion data"
   ]
  },
  {
   "cell_type": "code",
   "execution_count": 3,
   "metadata": {},
   "outputs": [
    {
     "name": "stdout",
     "output_type": "stream",
     "text": [
      "Arrays loaded from directory 'simulation_data/Grad_Pb-Pb-2760GeV/train'.\n",
      "Shapes of loaded arrays: (485, 17), (485, 110), (485, 110)\n",
      "Arrays loaded from directory 'simulation_data/Grad_Pb-Pb-2760GeV/test'.\n",
      "Shapes of loaded arrays: (93, 17), (93, 110), (93, 110)\n"
     ]
    }
   ],
   "source": [
    "# Load training data\n",
    "train_dir = 'simulation_data/Grad_Pb-Pb-2760GeV/train'\n",
    "X = np.loadtxt(os.path.join(train_dir, 'X.txt'))\n",
    "Ymean = np.loadtxt(os.path.join(train_dir, 'Ymean.txt'))\n",
    "Ystd = np.loadtxt(os.path.join(train_dir, 'Ystd.txt'))\n",
    "\n",
    "print(f\"Arrays loaded from directory '{train_dir}'.\")\n",
    "print(f\"Shapes of loaded arrays: {X.shape}, {Ymean.shape}, {Ystd.shape}\")\n",
    "\n",
    "\n",
    "# Load testing data\n",
    "test_dir = 'simulation_data/Grad_Pb-Pb-2760GeV/test'\n",
    "\n",
    "Xval = np.loadtxt(os.path.join(test_dir, 'X.txt'))\n",
    "Ymeanval = np.loadtxt(os.path.join(test_dir, 'Ymean.txt'))\n",
    "Ystdval = np.loadtxt(os.path.join(test_dir, 'Ystd.txt'))\n",
    "\n",
    "print(f\"Arrays loaded from directory '{test_dir}'.\")\n",
    "print(f\"Shapes of loaded arrays: {Xval.shape}, {Ymeanval.shape}, {Ystdval.shape}\")\n"
   ]
  },
  {
   "cell_type": "markdown",
   "metadata": {},
   "source": [
    "# Train emulators"
   ]
  },
  {
   "cell_type": "code",
   "execution_count": 5,
   "metadata": {},
   "outputs": [
    {
     "name": "stderr",
     "output_type": "stream",
     "text": [
      "2024-08-24 13:18:40,770 - AKSGP - INFO - Automatic kernel selection opted. Best kernel for each output dimension will be selected from the list of kernels:\n",
      "   ['Matern12', 'Matern32', 'Matern52', 'RBF']\n",
      "\n",
      "2024-08-24 13:18:40,771 - AKSGP - INFO - Shape of training arrays: (436, 17), (436, 4), (436, 4)\n",
      "2024-08-24 13:18:40,772 - AKSGP - INFO - Shape of validation arrays: (49, 17), (49, 4), (49, 4)\n",
      "2024-08-24 13:18:40,772 - AKSGP - INFO - Training GPs with all available kernels...\n",
      "2024-08-24 13:18:40,772 - AKSGP - INFO -   Standardizing input space...\n",
      "2024-08-24 13:18:40,774 - AKSGP - INFO -   Standardizing data...\n",
      "2024-08-24 13:18:50,111 - AKSGP - INFO -   Trained GPs with Matern12 kernels.\n",
      "2024-08-24 13:18:56,284 - AKSGP - INFO -   Trained GPs with Matern32 kernels.\n",
      "2024-08-24 13:19:03,411 - AKSGP - INFO -   Trained GPs with Matern52 kernels.\n",
      "2024-08-24 13:19:09,917 - AKSGP - INFO -   Trained GPs with RBF kernels.\n",
      "2024-08-24 13:19:09,918 - AKSGP - INFO - Finding best kernels for each output dimension...\n",
      "2024-08-24 13:19:09,930 - AKSGP - INFO -   Selected best kernels for each output dimension:\n",
      "   ['Matern32', 'Matern32', 'Matern32', 'Matern32']\n",
      "\n",
      "2024-08-24 13:19:09,930 - AKSGP - INFO - Retraining the GPs with selected best kernels using all training data...\n",
      "2024-08-24 13:19:09,930 - AKSGP - INFO -   Standardizing input space...\n",
      "2024-08-24 13:19:09,931 - AKSGP - INFO -   Standardizing data...\n",
      "2024-08-24 13:19:18,426 - AKSGP - INFO - Retraining GPs complete.\n",
      "\n",
      "2024-08-24 13:19:18,426 - AKSGP - INFO - Kernel after GP training for output dimension 0:\n",
      "5.16**2 * Matern(length_scale=[28, 48.2, 47.4, 39.4, 358, 23.7, 42.9, 35.4, 87.5, 21.5, 57.3, 37.4, 21.4, 65.8, 38.2, 78.2, 88.2], nu=1.5)\n",
      "  Log-marginal-likelihood: 110.59564002553554\n",
      "\n",
      "2024-08-24 13:19:18,427 - AKSGP - INFO - Kernel after GP training for output dimension 1:\n",
      "1.65**2 * Matern(length_scale=[8.2, 5.46, 13.7, 11.2, 75.5, 9.88, 19.2, 12.8, 50.4, 10.9, 14, 11.1, 13.4, 13.4, 28.4, 13.1, 27], nu=1.5)\n",
      "  Log-marginal-likelihood: -81.88714699539753\n",
      "\n",
      "2024-08-24 13:19:18,427 - AKSGP - INFO - Kernel after GP training for output dimension 2:\n",
      "1.49**2 * Matern(length_scale=[7.02, 3.6, 11.7, 4.58, 61.7, 7.27, 15.9, 14.8, 39.4, 15.5, 16.5, 12.1, 24.7, 66.8, 24, 40.2, 11.5], nu=1.5)\n",
      "  Log-marginal-likelihood: -95.49835786022942\n",
      "\n",
      "2024-08-24 13:19:18,427 - AKSGP - INFO - Kernel after GP training for output dimension 3:\n",
      "1.64**2 * Matern(length_scale=[8.37, 5.51, 13.5, 11.2, 70.3, 10.3, 18.8, 13.6, 50.4, 11.4, 14, 10.2, 11.1, 12.6, 22.5, 15.1, 27.1], nu=1.5)\n",
      "  Log-marginal-likelihood: -88.06866378759946\n",
      "\n"
     ]
    }
   ],
   "source": [
    "inpsize = 485; numobs= (0,4,7,34);\n",
    "\n",
    "emu = Emulator(X=X[:inpsize], Y_mean=Ymean[:inpsize, numobs], Y_std=Ystd[:inpsize, numobs])\n",
    "emu.fit(kernel='AKS', nrestarts=5, seed=13)\n"
   ]
  },
  {
   "cell_type": "code",
   "execution_count": 6,
   "metadata": {},
   "outputs": [
    {
     "name": "stdout",
     "output_type": "stream",
     "text": [
      "Predictions on training set ----------------->\n",
      "  Original means:\n",
      " [[1608.155095  402.4201     64.998956  370.298827]\n",
      " [1376.107143  398.155003   75.674266  371.891188]\n",
      " [1715.649143  495.888734   93.457043  462.45653 ]\n",
      " [1474.812429  439.662816   79.33832   407.198466]\n",
      " [1625.855467  504.200066  100.375664  467.423269]\n",
      " [1504.085667  379.364243   58.23383   346.128945]\n",
      " [1480.250667  443.19724    87.351097  413.624828]\n",
      " [1437.252714  427.646196   72.45078   393.168612]\n",
      " [1482.820619  364.887598   56.401625  338.102267]\n",
      " [1657.787762  484.448914   82.403924  450.87281 ]] \n",
      "\n",
      "  Predicted means:\n",
      " [[1614.47095375  407.37921578   65.53142559  374.69780572]\n",
      " [1371.07007182  397.33566339   74.88825894  371.17218365]\n",
      " [1700.72351665  492.83212606   92.42994513  459.42087948]\n",
      " [1476.81608483  438.74938252   79.06886704  406.33153474]\n",
      " [1627.08074931  504.74109086  100.41187849  467.89392159]\n",
      " [1501.80859662  378.84572174   58.28740133  345.68540068]\n",
      " [1479.86403955  443.79575979   87.86845277  414.14925691]\n",
      " [1434.96071539  427.36881231   72.79516785  392.76433902]\n",
      " [1502.00635285  366.16264071   57.11094641  339.31123376]\n",
      " [1659.27909554  481.03991569   81.17953309  447.96751613]] \n",
      "\n",
      "  Original standard deviations:\n",
      " [[10.336379  3.906345  0.932647  3.59714 ]\n",
      " [ 7.11056   3.403601  1.004127  3.174749]\n",
      " [ 9.336446  4.044188  1.309451  3.773167]\n",
      " [ 8.152738  3.249399  1.106364  2.995906]\n",
      " [ 9.791358  3.661821  1.413607  3.391132]\n",
      " [10.691534  3.17709   0.816426  2.913166]\n",
      " [ 7.211668  3.562928  1.157969  3.290001]\n",
      " [ 6.648012  3.637401  1.012052  3.347644]\n",
      " [11.063989  2.878607  0.925773  2.663016]\n",
      " [ 9.926797  3.772137  1.303198  3.511639]] \n",
      "\n",
      "  Predicted standard deviations:\n",
      " [[8.6401322  3.60085577 0.88891937 3.33164554]\n",
      " [6.58037579 3.23166481 0.94322045 3.01774484]\n",
      " [7.94231154 3.7374113  1.1735853  3.48718547]\n",
      " [7.32073577 3.08026423 1.0308838  2.8439806 ]\n",
      " [8.68785367 3.51422943 1.3243861  3.25450801]\n",
      " [9.33063521 3.06558302 0.7942163  2.81686576]\n",
      " [6.6692839  3.37250601 1.08682344 3.12223987]\n",
      " [6.30643806 3.47397688 0.9712975  3.20609585]\n",
      " [9.12757136 2.78251984 0.88566435 2.57679921]\n",
      " [8.7953228  3.58584933 1.20182398 3.34971146]] \n",
      "\n",
      "Predictions on test set ----------------->\n",
      "  Original means:\n",
      " [[1607.406827  381.786036   60.243908  346.119232]\n",
      " [1333.452143  270.425725   37.661492  248.040679]\n",
      " [1435.233929  463.441797   98.52318   420.893476]\n",
      " [1298.499992  273.882319   23.555752  246.618056]\n",
      " [1514.742262  444.300228   83.177199  404.604257]\n",
      " [1468.755833  425.037664   86.158909  388.397283]\n",
      " [1506.616429  455.088592   75.859844  420.336572]\n",
      " [1259.721151  291.816956   49.352694  270.172379]\n",
      " [1650.745714  515.080485   89.675437  477.375478]\n",
      " [1577.139048  503.559758  111.877204  459.177096]] \n",
      "\n",
      "  Predicted means:\n",
      " [[1588.74600176  383.4240265    58.97191345  346.24034525]\n",
      " [1290.99995215  298.89039481   36.73599068  272.03084363]\n",
      " [1438.18113727  483.73650512  107.78558742  440.82538766]\n",
      " [1319.33255012  289.15459846   28.4199925   262.95555397]\n",
      " [1489.92958793  419.72720334   78.61895662  385.17838381]\n",
      " [1411.71059521  398.39225298   83.34154095  366.69443866]\n",
      " [1512.26055383  434.45167385   77.19620718  402.73504443]\n",
      " [1259.46873486  325.41405753   55.67067704  303.38122189]\n",
      " [1670.71859055  468.79326826   81.45279536  435.75442895]\n",
      " [1595.3324711   530.40984515  119.30355359  484.49784475]] \n",
      "\n",
      "  Original standard deviations:\n",
      " [[20.432042  4.660561  1.586484  4.237469]\n",
      " [15.084882  3.979229  1.140882  3.662614]\n",
      " [12.003359  4.717014  2.034474  4.268859]\n",
      " [15.993218  3.859035  0.905056  3.51202 ]\n",
      " [12.049644  5.429466  1.549168  4.905625]\n",
      " [17.946162  5.165965  1.833677  4.733165]\n",
      " [15.372103  5.906978  2.05573   5.457962]\n",
      " [16.746333  4.137917  1.019347  3.807392]\n",
      " [19.18012   6.733516  1.865234  6.244818]\n",
      " [10.66707   5.515803  1.635271  5.043767]] \n",
      "\n",
      "  Predicted standard deviations:\n",
      " [[22.70635524 15.38753535  4.71577611 14.66588347]\n",
      " [24.51591297 14.74938945  4.14183683 14.0704336 ]\n",
      " [23.75592783 15.30340621  4.55577945 14.44212575]\n",
      " [27.59885908 17.30998873  5.05658445 16.49588358]\n",
      " [20.15602012 12.26197819  3.79821034 11.60509496]\n",
      " [29.76433079 19.45649812  5.77003476 18.38168033]\n",
      " [25.29156135 14.48311024  3.5802076  13.82727428]\n",
      " [23.90686206 13.98056932  4.23938957 13.23274504]\n",
      " [25.14725476 13.5892675   3.68443871 12.92247396]\n",
      " [29.91924222 21.0684151   6.04493428 19.70463575]] \n",
      "\n"
     ]
    }
   ],
   "source": [
    "test = 10\n",
    "\n",
    "print(\"Predictions on training set ----------------->\")\n",
    "# Predict with standard deviation\n",
    "means, std_devs = emu.predict(X[:test])\n",
    "\n",
    "print(\"  Original means:\\n\", Ymean[:test, numobs],\"\\n\")\n",
    "print(\"  Predicted means:\\n\", means,\"\\n\")\n",
    "\n",
    "print(\"  Original standard deviations:\\n\", Ystd[:test, numobs],\"\\n\")\n",
    "print(\"  Predicted standard deviations:\\n\", std_devs,\"\\n\")\n",
    "\n",
    "\n",
    "print(\"Predictions on test set ----------------->\")\n",
    "# Predict with standard deviation\n",
    "means, std_devs = emu.predict(Xval[:test])\n",
    "\n",
    "print(\"  Original means:\\n\", Ymeanval[:test, numobs],\"\\n\")\n",
    "print(\"  Predicted means:\\n\", means,\"\\n\")\n",
    "\n",
    "print(\"  Original standard deviations:\\n\", Ystdval[:test, numobs],\"\\n\")\n",
    "print(\"  Predicted standard deviations:\\n\", std_devs,\"\\n\")\n"
   ]
  },
  {
   "cell_type": "code",
   "execution_count": null,
   "metadata": {},
   "outputs": [],
   "source": []
  },
  {
   "cell_type": "code",
   "execution_count": null,
   "metadata": {},
   "outputs": [],
   "source": []
  },
  {
   "cell_type": "code",
   "execution_count": null,
   "metadata": {},
   "outputs": [],
   "source": []
  },
  {
   "cell_type": "code",
   "execution_count": null,
   "metadata": {},
   "outputs": [],
   "source": []
  },
  {
   "cell_type": "code",
   "execution_count": null,
   "metadata": {},
   "outputs": [],
   "source": []
  }
 ],
 "metadata": {
  "kernelspec": {
   "display_name": "Python 3 (ipykernel)",
   "language": "python",
   "name": "python3"
  },
  "language_info": {
   "codemirror_mode": {
    "name": "ipython",
    "version": 3
   },
   "file_extension": ".py",
   "mimetype": "text/x-python",
   "name": "python",
   "nbconvert_exporter": "python",
   "pygments_lexer": "ipython3",
   "version": "3.11.8"
  }
 },
 "nbformat": 4,
 "nbformat_minor": 4
}
