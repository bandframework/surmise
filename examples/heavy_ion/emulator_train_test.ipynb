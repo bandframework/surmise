{
 "cells": [
  {
   "cell_type": "markdown",
   "metadata": {},
   "source": [
    "# Emulator train and test : No k-fold"
   ]
  },
  {
   "cell_type": "code",
   "execution_count": 1,
   "metadata": {},
   "outputs": [],
   "source": [
    "import sys, os\n",
    "sys.path.append(os.path.abspath('../../surmise/emulationmethods'))\n",
    "sys.path.append(os.path.abspath('../..'))\n",
    "\n",
    "import numpy as np\n",
    "import matplotlib.pyplot as plt\n",
    "import dill\n",
    "import gzip\n",
    "\n",
    "import surmise\n",
    "from surmise.emulation import emulator\n",
    "from AKSGP import Emulator as emulator_AKSGP\n",
    "from PCGP_scikit import Emulator as PCGP_scikit\n",
    "\n",
    "import logging\n",
    "\n",
    "# Configure logging for the Emulator class\n",
    "logging.basicConfig(\n",
    "    level=logging.INFO, \n",
    "    format='%(asctime)s - %(name)s - %(levelname)s - %(message)s', \n",
    "    datefmt='%Y-%m-%d %H:%M:%S'\n",
    ")\n",
    "logger = logging.getLogger(__name__)\n",
    "\n",
    "\n",
    "# Load training data\n",
    "train_dir = 'simulation_data/Pb_Pb_2760_Grad/train'\n",
    "X = np.loadtxt(os.path.join(train_dir, 'X.txt'))\n",
    "Ymean = np.loadtxt(os.path.join(train_dir, 'Ymean.txt'))\n",
    "Ystd = np.loadtxt(os.path.join(train_dir, 'Ystd.txt'))\n"
   ]
  },
  {
   "cell_type": "markdown",
   "metadata": {},
   "source": [
    "### Train and save emulators"
   ]
  },
  {
   "cell_type": "code",
   "execution_count": 2,
   "metadata": {},
   "outputs": [],
   "source": [
    "xloc = np.arange(Ymean.shape[1])  # refers to the observable indices"
   ]
  },
  {
   "cell_type": "code",
   "execution_count": 3,
   "metadata": {},
   "outputs": [],
   "source": [
    "# Uncomment to train and save emulators. \n",
    "\n",
    "# methods = ['PCGP', 'PCGP_scikit', 'PCSK', 'AKSGP']  # specify only the emulators you want to train\n",
    "\n",
    "# emus = {}\n",
    "# for method in methods:\n",
    "\n",
    "#     if method == 'PCGP':\n",
    "#         prior = {'min': np.min(Ymean.T), 'max': np.max(Ymean.T)}\n",
    "#         args = {'prior': prior}\n",
    "#         emus[method] = emulator(x=xloc, theta=X, f=Ymean.T, method=method, args=args)\n",
    "        \n",
    "#     elif method == 'PCSK':\n",
    "#         args = {'simsd': Ystd.T}\n",
    "#         emus[method] = emulator(x=xloc, theta=X, f=Ymean.T, method=method, args=args)\n",
    "        \n",
    "#     elif method == 'AKSGP':\n",
    "#         emus[method] = emulator_AKSGP(X=X, Y_mean=Ymean, Y_std=Ystd)\n",
    "#         emus[method].fit(kernel='AKS', nrestarts=10, seed=None)\n",
    "        \n",
    "#     elif method == 'PCGP_scikit':\n",
    "#         emus[method] = PCGP_scikit(X=X, Y=Ymean, npc = 10)\n",
    "#         emus[method].fit(nrestarts=10)\n",
    "        \n",
    "#     else:\n",
    "#         logger.error(f\"Unknown method '{method}'.\\n\")\n",
    "#         continue\n",
    "        \n",
    "#     # Saving the emulators after training\n",
    "#     try:\n",
    "#         filename = f'emulator_{method}.dill.gz'\n",
    "#         with gzip.open(filename, 'wb') as f:\n",
    "#             dill.dump(emus[method], f)\n",
    "#         logger.info(f\"Emulator '{method}' trained and saved.\\n\")\n",
    "#     except Exception as e:\n",
    "#         logger.error(f\"Failed to save emulator '{method}': {e}\\n\")\n",
    "            \n"
   ]
  },
  {
   "cell_type": "markdown",
   "metadata": {},
   "source": [
    "### Load saved emulators"
   ]
  },
  {
   "cell_type": "code",
   "execution_count": 4,
   "metadata": {},
   "outputs": [],
   "source": [
    "emulators = {}\n",
    "for method in ['PCGP', 'PCSK', 'AKSGP', 'PCGP_scikit']:\n",
    "    filename = f'emulator_{method}.dill.gz'\n",
    "    with gzip.open(filename, 'rb') as f:\n",
    "        emulators[method] = dill.load(f)"
   ]
  },
  {
   "cell_type": "markdown",
   "metadata": {},
   "source": [
    "### Compute metrics"
   ]
  },
  {
   "cell_type": "code",
   "execution_count": 5,
   "metadata": {},
   "outputs": [
    {
     "name": "stderr",
     "output_type": "stream",
     "text": [
      "2024-09-01 21:13:53 - numexpr.utils - INFO - NumExpr defaulting to 8 threads.\n"
     ]
    }
   ],
   "source": [
    "import pandas as pd\n",
    "from metrics import *\n",
    "from sklearn.preprocessing import StandardScaler\n",
    "\n",
    "# Load testing data\n",
    "test_dir = 'simulation_data/Pb_Pb_2760_Grad/test'\n",
    "\n",
    "X_test = np.loadtxt(os.path.join(test_dir, 'X.txt'))\n",
    "Ymean_test = np.loadtxt(os.path.join(test_dir, 'Ymean.txt'))\n",
    "Ystd_test = np.loadtxt(os.path.join(test_dir, 'Ystd.txt'))\n",
    "\n",
    "\n",
    "def metrics_cal(means1, var1, means2, var2):\n",
    "    # Initialize array's to store the distances\n",
    "    kl_div = np.zeros(means1.shape)\n",
    "    wasserstein_dist = np.zeros(means1.shape)\n",
    "    hellinger_dist = np.zeros(means1.shape)\n",
    "    \n",
    "    # Loop over each pair of means and variances\n",
    "    for i in range(means1.shape[0]):\n",
    "        for j in range(means1.shape[1]):\n",
    "            mu1 = means1[i, j]\n",
    "            mu2 = means2[i, j]\n",
    "            var1_ij = var1[i, j]\n",
    "            var2_ij = var2[i, j]\n",
    "            \n",
    "            # Calculate the distances for the current pair\n",
    "            kl_div[i, j] = kl_divergence_gaussian(mu1=mu1, Cov1=var1_ij, mu2=mu2, Cov2=var2_ij)\n",
    "            hellinger_dist[i, j] = hellinger_distance_gaussian(mu1=mu1, Cov1=var1_ij, mu2=mu2, Cov2=var2_ij)\n",
    "            wasserstein_dist[i, j] = wasserstein_distance_gaussian(mu1=mu1, Cov1=var1_ij, mu2=mu2, Cov2=var2_ij)\n",
    "\n",
    "    return kl_div, hellinger_dist, wasserstein_dist\n",
    "\n",
    "\n",
    "scaler_Y = StandardScaler()\n",
    "Ymean_test = scaler_Y.fit_transform(Ymean_test)\n",
    "Ystd_test = Ystd_test / scaler_Y.scale_\n",
    "\n",
    "\n",
    "\n",
    "# Initialize a list to store the results\n",
    "results = []\n",
    "\n",
    "for method, emu in emulators.items():\n",
    "    # print(method)\n",
    "    \n",
    "    if method in {'PCGP', 'PCSK'}:\n",
    "        pred = emu.predict(x=xloc, theta=X_test)\n",
    "        predmean = pred.mean().T\n",
    "        predvar = pred.var().T\n",
    "        \n",
    "        predmean = scaler_Y.transform(predmean)\n",
    "        predvar = np.square(np.sqrt(predvar)/scaler_Y.scale_)\n",
    "        \n",
    "    elif method in {'AKSGP', 'PCGP_scikit'}:\n",
    "        predmean, predstd = emu.predict(X_test)\n",
    "        predvar = np.square(predstd)\n",
    "\n",
    "        predmean = scaler_Y.transform(predmean)\n",
    "        predvar = np.square(np.sqrt(predvar)/scaler_Y.scale_)\n",
    "    \n",
    "    Yvar_test = np.square(Ystd_test)\n",
    "    \n",
    "    EC = intervalstats(Ymean_test, predmean, predvar)\n",
    "    RMSE = rmse(Ymean_test, predmean)\n",
    "    NRMSE = normalized_rmse(Ymean_test, predmean)\n",
    "    KLdiv, HD, WD = metrics_cal(predmean, predvar, Ymean_test, Yvar_test)\n",
    "\n",
    "    # Store the results in the list\n",
    "    results.append({\n",
    "        'Method': method,\n",
    "        'Empirical Coverage': ', '.join(['{:.6f}'.format(val) for val in EC]),\n",
    "        'RMSE': '{:.6f}'.format(RMSE),\n",
    "        'NRMSE': '{:.6f}'.format(NRMSE),\n",
    "        'KL Divergence': '{:.6f}'.format(np.mean(KLdiv)),\n",
    "        'Hellinger Distance': '{:.6f}'.format(np.mean(HD)),\n",
    "        'Wasserstein Distance': '{:.6f}'.format(np.mean(WD))\n",
    "    })\n",
    "\n",
    "# Convert the list of results into a DataFrame\n",
    "results_df = pd.DataFrame(results)\n"
   ]
  },
  {
   "cell_type": "code",
   "execution_count": 6,
   "metadata": {},
   "outputs": [
    {
     "name": "stdout",
     "output_type": "stream",
     "text": [
      "Method       Empirical Coverage          RMSE           NRMSE        KL Divergence   Hellinger Distance   Wasserstein Distance\n",
      "------------------------------------------------------------------------------------------------------------------------------\n",
      "PCGP         0.887977, 0.829358        0.278953        0.060936        29.258718         0.622252             0.266622            \n",
      "PCSK         0.876442, 0.852003        0.292602        0.063949        32.442426         0.631018             0.280686            \n",
      "AKSGP        0.847410, 0.704204        0.272827        0.059591        24.122800         0.621285             0.254739            \n",
      "PCGP_scikit  0.972239, 1.452532        0.298755        0.065328        67.216975         0.668979             0.386162            \n"
     ]
    }
   ],
   "source": [
    "\n",
    "# Format and print the header\n",
    "header = f\"{'Method':<12} {'Empirical Coverage':<27} {'RMSE':<14} {'NRMSE':<12} {'KL Divergence':<15} {'Hellinger Distance':<20} {'Wasserstein Distance':<20}\"\n",
    "print(header)\n",
    "print('-' * len(header))\n",
    "\n",
    "# Format and print each row\n",
    "for index, row in results_df.iterrows():\n",
    "    print(f\"{row['Method']:<12} {row['Empirical Coverage']:<25} {row['RMSE']:<15} {row['NRMSE']:<15} {row['KL Divergence']:<17} {row['Hellinger Distance']:<20} {row['Wasserstein Distance']:<20}\")\n"
   ]
  },
  {
   "cell_type": "code",
   "execution_count": null,
   "metadata": {},
   "outputs": [],
   "source": []
  },
  {
   "cell_type": "code",
   "execution_count": null,
   "metadata": {},
   "outputs": [],
   "source": []
  },
  {
   "cell_type": "code",
   "execution_count": null,
   "metadata": {},
   "outputs": [],
   "source": []
  },
  {
   "cell_type": "code",
   "execution_count": null,
   "metadata": {},
   "outputs": [],
   "source": []
  }
 ],
 "metadata": {
  "kernelspec": {
   "display_name": "Python 3 (ipykernel)",
   "language": "python",
   "name": "python3"
  },
  "language_info": {
   "codemirror_mode": {
    "name": "ipython",
    "version": 3
   },
   "file_extension": ".py",
   "mimetype": "text/x-python",
   "name": "python",
   "nbconvert_exporter": "python",
   "pygments_lexer": "ipython3",
   "version": "3.11.8"
  }
 },
 "nbformat": 4,
 "nbformat_minor": 4
}
