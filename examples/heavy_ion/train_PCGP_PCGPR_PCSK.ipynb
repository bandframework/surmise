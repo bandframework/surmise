{
 "cells": [
  {
   "cell_type": "code",
   "execution_count": 4,
   "metadata": {},
   "outputs": [
    {
     "ename": "ModuleNotFoundError",
     "evalue": "No module named 'dill'",
     "output_type": "error",
     "traceback": [
      "\u001b[1;31m---------------------------------------------------------------------------\u001b[0m",
      "\u001b[1;31mModuleNotFoundError\u001b[0m                       Traceback (most recent call last)",
      "Cell \u001b[1;32mIn[4], line 5\u001b[0m\n\u001b[0;32m      3\u001b[0m \u001b[38;5;28;01mimport\u001b[39;00m \u001b[38;5;21;01mnumpy\u001b[39;00m \u001b[38;5;28;01mas\u001b[39;00m \u001b[38;5;21;01mnp\u001b[39;00m\n\u001b[0;32m      4\u001b[0m \u001b[38;5;28;01mimport\u001b[39;00m \u001b[38;5;21;01mmatplotlib\u001b[39;00m\u001b[38;5;21;01m.\u001b[39;00m\u001b[38;5;21;01mpyplot\u001b[39;00m \u001b[38;5;28;01mas\u001b[39;00m \u001b[38;5;21;01mplt\u001b[39;00m\n\u001b[1;32m----> 5\u001b[0m \u001b[38;5;28;01mimport\u001b[39;00m \u001b[38;5;21;01mdill\u001b[39;00m\n\u001b[0;32m      6\u001b[0m \u001b[38;5;28;01mimport\u001b[39;00m \u001b[38;5;21;01mgzip\u001b[39;00m\n\u001b[0;32m      7\u001b[0m \u001b[38;5;28;01mimport\u001b[39;00m \u001b[38;5;21;01mlogging\u001b[39;00m\n",
      "\u001b[1;31mModuleNotFoundError\u001b[0m: No module named 'dill'"
     ]
    }
   ],
   "source": [
    "import sys\n",
    "import os\n",
    "import numpy as np\n",
    "import matplotlib.pyplot as plt\n",
    "import dill\n",
    "import gzip\n",
    "import logging\n",
    "\n",
    "sys.path.append(os.path.abspath('../../surmise/emulationmethods'))\n",
    "from AKSGP import Emulator\n",
    "\n",
    "# Configure logging\n",
    "logging.basicConfig(\n",
    "    level=logging.INFO,\n",
    "    format='%(asctime)s - %(name)s - %(levelname)s - %(message)s',\n",
    "    handlers=[\n",
    "        # logging.FileHandler('emulator_train.log', mode='w'),  # Log to file\n",
    "        logging.StreamHandler()  # Log to console\n",
    "    ]\n",
    ")\n",
    "logger = logging.getLogger(__name__)"
   ]
  },
  {
   "cell_type": "markdown",
   "metadata": {},
   "source": [
    "# Mock data"
   ]
  },
  {
   "cell_type": "code",
   "execution_count": 7,
   "metadata": {},
   "outputs": [
    {
     "name": "stdout",
     "output_type": "stream",
     "text": [
      "(50, 10)\n",
      "(50,)\n"
     ]
    }
   ],
   "source": [
    "from sklearn.datasets import make_friedman1\n",
    "\n",
    "X, y = make_friedman1(n_samples=50, noise=0.0, random_state=0)\n",
    "print(X.shape)\n",
    "print(y.shape)\n"
   ]
  },
  {
   "cell_type": "markdown",
   "metadata": {},
   "source": [
    "# Train and predict"
   ]
  },
  {
   "cell_type": "markdown",
   "metadata": {},
   "source": [
    "### AKSGP"
   ]
  },
  {
   "cell_type": "code",
   "execution_count": 8,
   "metadata": {
    "scrolled": true
   },
   "outputs": [
    {
     "name": "stderr",
     "output_type": "stream",
     "text": [
      "INFO:AKSGP:Training GPs with RBF kernel...\n",
      "\n",
      "INFO:AKSGP:  Standardizing input space...\n",
      "INFO:AKSGP:  Standardizing data...\n",
      "INFO:AKSGP:Kernel after GP training for output dimension 0:\n",
      "13.1**2 * RBF(length_scale=[4.09, 4.57, 9.73, 45.3, 92.2, 1e+03, 1e+03, 1e+03, 1e+03, 1e+03])\n",
      "  Log-marginal-likelihood: 20.46249684566002\n",
      "\n"
     ]
    }
   ],
   "source": [
    "emu = Emulator(X, Y_mean=y, Y_std=None)\n",
    "emu.fit(kernel='RBF', nrestarts=5, seed=13)"
   ]
  },
  {
   "cell_type": "code",
   "execution_count": 9,
   "metadata": {},
   "outputs": [
    {
     "name": "stdout",
     "output_type": "stream",
     "text": [
      "% error:\n",
      " [[ 7.30261573e-07]\n",
      " [ 2.78903603e-05]\n",
      " [-5.03119549e-05]\n",
      " [ 8.59131366e-07]\n",
      " [ 3.25264520e-05]\n",
      " [ 1.14952714e-08]\n",
      " [-1.13978809e-06]\n",
      " [-7.49448623e-06]\n",
      " [ 7.31229521e-08]\n",
      " [-1.35619645e-05]]\n"
     ]
    }
   ],
   "source": [
    "Xtest, ytest = make_friedman1(n_samples=10, noise=0.0, random_state=0)\n",
    "means, std_devs = emu.predict(Xtest)\n",
    "print(\"% error:\\n\", (1.0 - means/ytest.reshape(-1, 1))*100)"
   ]
  },
  {
   "cell_type": "markdown",
   "metadata": {},
   "source": [
    "### PCGP / PCSK "
   ]
  },
  {
   "cell_type": "code",
   "execution_count": 24,
   "metadata": {},
   "outputs": [
    {
     "name": "stdout",
     "output_type": "stream",
     "text": [
      "0.2.2.dev3+g39c3ec4\n",
      "PCGP\n",
      "squared error: 2.837052E-05\n",
      "PCSK\n",
      "squared error: 8.272982E-11\n"
     ]
    }
   ],
   "source": [
    "from surmise.emulation import emulator\n",
    "import surmise\n",
    "print(surmise.__version__)\n",
    "\n",
    "import numpy as np\n",
    "\n",
    "f = y.reshape(1, y.shape[0])\n",
    "ftest = ytest.reshape(1, ytest.shape[0])\n",
    "prior = {'min': np.min(y),\n",
    "         'max': np.max(y)\n",
    "        }# should not be required but required in PCGPR, rename possibly..\n",
    "\n",
    "# !! PCGPR has hard-coded bugs... abandoning for now\n",
    "\n",
    "xloc=np.array((1,))\n",
    "\n",
    "emus = {}\n",
    "for method in ['PCGP', 'PCSK']:\n",
    "    if method == 'PCGPR':\n",
    "        args = {'prior': prior}\n",
    "    elif method == 'PCSK':\n",
    "        args = {'simsd': 1e-3 * np.ones_like(f)}\n",
    "    else:\n",
    "        args= {}\n",
    "    emus[method] = emulator(x=xloc, theta=X, f=f, method=method, args=args)\n",
    "\n",
    "for method, emu in emus.items():\n",
    "    print(method)\n",
    "    pred = emu.predict(x=xloc, theta=Xtest)\n",
    "    print('squared error: {:.6E}'.format(np.mean((pred.mean() - ftest)**2)))"
   ]
  },
  {
   "cell_type": "markdown",
   "metadata": {},
   "source": [
    "## Pb-Pb dataset"
   ]
  },
  {
   "cell_type": "code",
   "execution_count": 5,
   "metadata": {},
   "outputs": [],
   "source": [
    "from surmise.emulation import emulator\n",
    "import numpy as np\n",
    "# Load training data\n",
    "train_dir = 'simulation_data/Grad_Pb-Pb-2760GeV/train'\n",
    "X = np.loadtxt(os.path.join(train_dir, 'X.txt'))\n",
    "Ymean = np.loadtxt(os.path.join(train_dir, 'Ymean.txt'))\n",
    "Ystd = np.loadtxt(os.path.join(train_dir, 'Ystd.txt'))\n",
    "\n",
    "\n",
    "# Load testing data\n",
    "test_dir = 'simulation_data/Grad_Pb-Pb-2760GeV/test'\n",
    "\n",
    "Xval = np.loadtxt(os.path.join(test_dir, 'X.txt'))\n",
    "Ymeanval = np.loadtxt(os.path.join(test_dir, 'Ymean.txt'))\n",
    "Ystdval = np.loadtxt(os.path.join(test_dir, 'Ystd.txt'))"
   ]
  },
  {
   "cell_type": "code",
   "execution_count": 12,
   "metadata": {},
   "outputs": [
    {
     "data": {
      "text/plain": [
       "(485, 110)"
      ]
     },
     "execution_count": 12,
     "metadata": {},
     "output_type": "execute_result"
    }
   ],
   "source": [
    "Ymean.shape"
   ]
  },
  {
   "cell_type": "code",
   "execution_count": 13,
   "metadata": {},
   "outputs": [],
   "source": [
    "# x refers to the observable indices\n",
    "\n",
    "xloc = np.arange(Ymean.shape[1])"
   ]
  },
  {
   "cell_type": "code",
   "execution_count": 16,
   "metadata": {},
   "outputs": [],
   "source": [
    "emus = {}\n",
    "for method in ['PCGP', 'PCSK']:\n",
    "    if method == 'PCGPR':\n",
    "        args = {'prior': prior}\n",
    "    elif method == 'PCSK':\n",
    "        args = {'simsd': Ystd.T[:10,:100]}  # truncated for speed\n",
    "    else:\n",
    "        args= {}\n",
    "    emus[method] = emulator(x=xloc[:10], theta=X[:100], f=Ymean.T[:10,:100], method=method, args=args)"
   ]
  },
  {
   "cell_type": "code",
   "execution_count": 19,
   "metadata": {},
   "outputs": [
    {
     "name": "stdout",
     "output_type": "stream",
     "text": [
      "PCGP\n",
      "squared error: 4.281714E+03\n",
      "PCSK\n",
      "squared error: 7.834373E+03\n"
     ]
    }
   ],
   "source": [
    "for method, emu in emus.items():\n",
    "    print(method)\n",
    "    pred = emu.predict(x=xloc[:10], theta=Xval)\n",
    "    predmean = pred.mean()\n",
    "    predvar = pred.var()\n",
    "    print('squared error: {:.6E}'.format(np.mean((predmean - Ymeanval.T[:10])**2)))"
   ]
  },
  {
   "cell_type": "markdown",
   "metadata": {},
   "source": [
    "# LCGP"
   ]
  },
  {
   "cell_type": "code",
   "execution_count": 13,
   "metadata": {},
   "outputs": [],
   "source": [
    "import lcgp\n",
    "\n",
    "np.random.seed(0)\n",
    "\n",
    "n = X.shape[0]\n",
    "train_inds = np.random.choice(np.arange(n), int(4*n/5)) \n",
    "test_inds = np.setdiff1d(np.arange(n), train_inds)"
   ]
  },
  {
   "cell_type": "code",
   "execution_count": 14,
   "metadata": {},
   "outputs": [],
   "source": [
    "theta_train = X[train_inds]\n",
    "f_train = Ymean[train_inds]\n",
    "theta_test = X[test_inds]\n",
    "f_test = Ymean[test_inds]\n",
    "\n",
    "xloc = np.arange(Ymean.shape[1])"
   ]
  },
  {
   "cell_type": "code",
   "execution_count": null,
   "metadata": {},
   "outputs": [],
   "source": [
    "model = lcgp.LCGP(y=f_train.T, x=theta_train)\n",
    "\n",
    "model.fit(verbose=1)"
   ]
  },
  {
   "cell_type": "code",
   "execution_count": null,
   "metadata": {},
   "outputs": [],
   "source": []
  }
 ],
 "metadata": {
  "kernelspec": {
   "display_name": "Python 3 (ipykernel)",
   "language": "python",
   "name": "python3"
  },
  "language_info": {
   "codemirror_mode": {
    "name": "ipython",
    "version": 3
   },
   "file_extension": ".py",
   "mimetype": "text/x-python",
   "name": "python",
   "nbconvert_exporter": "python",
   "pygments_lexer": "ipython3",
   "version": "3.9.12"
  }
 },
 "nbformat": 4,
 "nbformat_minor": 4
}
